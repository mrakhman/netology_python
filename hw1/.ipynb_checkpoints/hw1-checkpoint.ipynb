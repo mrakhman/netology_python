{
 "cells": [
  {
   "cell_type": "markdown",
   "metadata": {},
   "source": [
    "##  Простые задания"
   ]
  },
  {
   "cell_type": "markdown",
   "metadata": {},
   "source": [
    "#### 1. Даны 2 строки long_phrase и short_phrase. Напишите код, который проверяет, действительно ли длинная фраза long_phrase длиннее короткой short_phrase. И выводит True или False в зависимости от результата сравнения."
   ]
  },
  {
   "cell_type": "code",
   "execution_count": 2,
   "metadata": {},
   "outputs": [
    {
     "name": "stdout",
     "output_type": "stream",
     "text": [
      "True\n"
     ]
    }
   ],
   "source": [
    "long_phrase = 'Насколько проще было бы писать программы, если бы не заказчики'\n",
    "short_phrase = '640Кб должно хватить для любых задач. Билл Гейтс (по легенде)'\n",
    "\n",
    "print (len(long_phrase) > len(short_phrase))"
   ]
  },
  {
   "cell_type": "markdown",
   "metadata": {},
   "source": [
    "#### 2. Дана строка text. Определите какая из двух букв встречается в нем чаще - 'а' или 'и'. text = 'Если программист в 9-00 утра на работе, значит, он там и ночевал'\n",
    "P. S. Вам может помочь метод replace."
   ]
  },
  {
   "cell_type": "code",
   "execution_count": 10,
   "metadata": {},
   "outputs": [
    {
     "name": "stdout",
     "output_type": "stream",
     "text": [
      "Букв 'а' больше\n"
     ]
    }
   ],
   "source": [
    "text = 'Если программист в 9-00 утра на работе, значит, он там и ночевал'\n",
    "\n",
    "# 1: using 'replace'\n",
    "if (len(text.replace('а','')) < len(text.replace('и',''))):\n",
    "    print(\"Букв 'а' больше\")\n",
    "else:\n",
    "    print(\"Букв 'и' больше\")"
   ]
  },
  {
   "cell_type": "code",
   "execution_count": 11,
   "metadata": {},
   "outputs": [
    {
     "name": "stdout",
     "output_type": "stream",
     "text": [
      "Букв 'а' больше\n"
     ]
    }
   ],
   "source": [
    "# 2: using 'count'\n",
    "if (text.count('а') > text.count('и')):\n",
    "    print(\"Букв 'а' больше\")\n",
    "else:\n",
    "    print(\"Букв 'и' больше\")"
   ]
  },
  {
   "cell_type": "markdown",
   "metadata": {},
   "source": [
    "#### 3. Дано значение объема файла в байтах. Напишите перевод этого значения в мегабайты в формате:\n",
    "'Объем файла равен 213.68Mb'\n",
    "\n",
    "P. S. Найдите определение килобайта. Это не 1000 байт."
   ]
  },
  {
   "cell_type": "code",
   "execution_count": 12,
   "metadata": {},
   "outputs": [
    {
     "name": "stdout",
     "output_type": "stream",
     "text": [
      "Объем файла равен 0.69Mb\n"
     ]
    }
   ],
   "source": [
    "# 1: Using function\n",
    "def n_megabyte(n_byte):\n",
    "\tn_mb = n_byte * 1.0 / 1048576\n",
    "\tprint('Объем файла равен {:.2f}Mb'.format(n_mb))\n",
    "\n",
    "n_megabyte(724288)"
   ]
  },
  {
   "cell_type": "code",
   "execution_count": 13,
   "metadata": {},
   "outputs": [
    {
     "name": "stdout",
     "output_type": "stream",
     "text": [
      "Объем файла равен 0.69Mb\n"
     ]
    }
   ],
   "source": [
    "# 2: Using 'print'\n",
    "n_byte = 724288\n",
    "n_mb = n_byte / 1048576\n",
    "print('Объем файла равен {:.2f}Mb'.format(n_mb))"
   ]
  },
  {
   "cell_type": "markdown",
   "metadata": {},
   "source": [
    "#### 4. Выведите на экран значение синуса 30 градусов с помощью метода math.sin"
   ]
  },
  {
   "cell_type": "code",
   "execution_count": 43,
   "metadata": {},
   "outputs": [
    {
     "data": {
      "text/plain": [
       "0.49999999999999994"
      ]
     },
     "execution_count": 43,
     "metadata": {},
     "output_type": "execute_result"
    }
   ],
   "source": [
    "import math\n",
    "\n",
    "math.sin(math.radians(30))"
   ]
  },
  {
   "cell_type": "markdown",
   "metadata": {},
   "source": [
    "#### 5. В прошлом задании у вас скорее всего не получилось точного значения 0.5 из-за конечной точности вычисления синуса. Но почему некоторые простые операции также могут давать неточный результат? Попробуйте вывести на экран результат операции 0.1 + 0.2. Почему результат неточен?"
   ]
  },
  {
   "cell_type": "code",
   "execution_count": 46,
   "metadata": {},
   "outputs": [
    {
     "data": {
      "text/plain": [
       "0.30000000000000004"
      ]
     },
     "execution_count": 46,
     "metadata": {},
     "output_type": "execute_result"
    }
   ],
   "source": [
    "0.1 + 0.2"
   ]
  },
  {
   "cell_type": "code",
   "execution_count": 1,
   "metadata": {},
   "outputs": [
    {
     "data": {
      "text/plain": [
       "False"
      ]
     },
     "execution_count": 1,
     "metadata": {},
     "output_type": "execute_result"
    }
   ],
   "source": [
    "0.1 + 0.2 == 0.3"
   ]
  },
  {
   "cell_type": "markdown",
   "metadata": {},
   "source": [
    "Ответ:\n",
    "\n",
    "0.1 и 0.2 - это вещественные числа. Они представляются в виде двоиченой дроби (число умноженное на степень двойки).\n",
    "В таком виде не все числа представляются точно. Так выражение 0.1 + 0.2 == 0.3 может возвращать FALSE, так как\n",
    "округление числа может происходить не в ту сторону. Два вещественных числа нельзя так просто сравнить на равенство.\n",
    "Чтобы все таки выполнить сравнение, надо взять разность чисел по модулю и сравнить этот модуль с условным эпсилоном,\n",
    "который будет отвечать за погрешность либо сравнивать числа с заданным кол-вом знаков после запятой: {:.6f}"
   ]
  },
  {
   "cell_type": "markdown",
   "metadata": {},
   "source": [
    "##  Задания посложнее"
   ]
  },
  {
   "cell_type": "markdown",
   "metadata": {},
   "source": [
    "####  1. В переменных a и b записаны 2 различных числа. Вам необходимо написать код, который меняет значения a и b местами без использования третьей переменной."
   ]
  },
  {
   "cell_type": "code",
   "execution_count": 18,
   "metadata": {},
   "outputs": [
    {
     "name": "stdout",
     "output_type": "stream",
     "text": [
      "Before swap: x = 10  y = 5\n",
      "After  swap: x = 5   y = 10\n"
     ]
    }
   ],
   "source": [
    "# 1: using + and -\n",
    "\n",
    "x = 10\n",
    "y = 5\n",
    "\n",
    "def swap_1(x, y):\n",
    "    x = x + y # x now becomes 15 \n",
    "    y = x - y # y becomes 10\n",
    "    x = x - y # x becomes 5\n",
    "    print(\"After  swap: x =\", x, \"  y =\", y)\n",
    "\n",
    "print(\"Before swap: x =\", x, \" y =\", y)\n",
    "swap_1(x, y)"
   ]
  },
  {
   "cell_type": "code",
   "execution_count": 19,
   "metadata": {},
   "outputs": [
    {
     "name": "stdout",
     "output_type": "stream",
     "text": [
      "Before swap: a = 10  b = 5\n",
      "After  swap: a = 5   b = 10\n"
     ]
    }
   ],
   "source": [
    "# 2: using bitwise XOR\n",
    "\n",
    "a = 10 # 1010\n",
    "b = 5  # 0101\n",
    "\n",
    "def swap_2(a, b):\n",
    "    a = a ^ b; # 1010 XOR 0101 = 1111 - a becomes 15\n",
    "    b = a ^ b; # 1111 XOR 0101 = 1010 - b becomes 10\n",
    "    a = a ^ b; # 1111 XOR 1010 = 0101 - a becomes 5\n",
    "    print(\"After  swap: a =\", a, \"  b =\", b)\n",
    "\n",
    "print(\"Before swap: a =\", a, \" b =\", b)\n",
    "swap_2(a, b)"
   ]
  },
  {
   "cell_type": "markdown",
   "metadata": {},
   "source": [
    "####  2. Дано число в двоичной системе счисления: num=10011. Напишите алгоритм перевода этого числа в привычную нам десятичную систему счисления. Возможно, вам понадобится цикл прохождения всех целых чисел от 0 до m:\n",
    "for n in range(m)"
   ]
  },
  {
   "cell_type": "code",
   "execution_count": 29,
   "metadata": {},
   "outputs": [
    {
     "data": {
      "text/plain": [
       "19"
      ]
     },
     "execution_count": 29,
     "metadata": {},
     "output_type": "execute_result"
    }
   ],
   "source": [
    "# 1: using int() function\n",
    "\n",
    "num = 10011\n",
    "num_str = str(num)\n",
    "print (int(num_str, 2))"
   ]
  },
  {
   "cell_type": "code",
   "execution_count": 33,
   "metadata": {},
   "outputs": [
    {
     "name": "stdout",
     "output_type": "stream",
     "text": [
      "19\n"
     ]
    }
   ],
   "source": [
    "# 2: unsing loop through binary string\n",
    "\n",
    "binary = '10011'\n",
    "decimal = 0\n",
    "\n",
    "for i in binary:\n",
    "    decimal = decimal * 2 + int(i)\n",
    "print (decimal)"
   ]
  },
  {
   "cell_type": "code",
   "execution_count": 69,
   "metadata": {},
   "outputs": [
    {
     "name": "stdout",
     "output_type": "stream",
     "text": [
      "19\n"
     ]
    }
   ],
   "source": [
    "# 3: school way of thralslation like on a paper\n",
    "\n",
    "bin = '10011'\n",
    "bin_rev = bin[::-1] # reversed range to loop from last digit of 'bin' to first\n",
    "\n",
    "decimal = 0\n",
    "for i in range(0, len(bin)):\n",
    "    decimal = decimal + int(bin_rev[i]) * 2**i\n",
    "print (decimal)"
   ]
  }
 ],
 "metadata": {
  "kernelspec": {
   "display_name": "Python 3",
   "language": "python",
   "name": "python3"
  },
  "language_info": {
   "codemirror_mode": {
    "name": "ipython",
    "version": 3
   },
   "file_extension": ".py",
   "mimetype": "text/x-python",
   "name": "python",
   "nbconvert_exporter": "python",
   "pygments_lexer": "ipython3",
   "version": "3.6.8"
  }
 },
 "nbformat": 4,
 "nbformat_minor": 2
}
