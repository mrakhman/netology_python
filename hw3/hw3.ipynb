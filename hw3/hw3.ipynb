{
 "cells": [
  {
   "cell_type": "markdown",
   "metadata": {},
   "source": [
    "### Задание 1"
   ]
  },
  {
   "cell_type": "markdown",
   "metadata": {},
   "source": [
    "#### Дан список с визитами по городам и странам. Напишите код, который возвращает отфильтрованный список geo_logs, содержащий только визиты из России. Считайте, что список geo_logs легко помещается в оперативной памяти."
   ]
  },
  {
   "cell_type": "code",
   "execution_count": 3,
   "metadata": {},
   "outputs": [],
   "source": [
    "geo_logs = [\n",
    "\t{'visit1': ['Москва', 'Россия']},\n",
    "\t{'visit2': ['Дели', 'Индия']},\n",
    "\t{'visit3': ['Владимир', 'Россия']},\n",
    "\t{'visit4': ['Лиссабон', 'Португалия']},\n",
    "\t{'visit5': ['Париж', 'Франция']},\n",
    "\t{'visit6': ['Лиссабон', 'Португалия']},\n",
    "\t{'visit7': ['Тула', 'Россия']},\n",
    "\t{'visit8': ['Тула', 'Россия']},\n",
    "\t{'visit9': ['Курск', 'Россия']},\n",
    "\t{'visit10': ['Архангельск', 'Россия']},\n",
    "]"
   ]
  },
  {
   "cell_type": "code",
   "execution_count": 4,
   "metadata": {},
   "outputs": [
    {
     "data": {
      "text/plain": [
       "[{'visit1': ['Москва', 'Россия']},\n",
       " {'visit3': ['Владимир', 'Россия']},\n",
       " {'visit7': ['Тула', 'Россия']},\n",
       " {'visit8': ['Тула', 'Россия']},\n",
       " {'visit9': ['Курск', 'Россия']},\n",
       " {'visit10': ['Архангельск', 'Россия']}]"
      ]
     },
     "execution_count": 4,
     "metadata": {},
     "output_type": "execute_result"
    }
   ],
   "source": [
    "# 1 способ: \n",
    "[x for x in geo_logs if list(x.values())[0][1] == 'Россия']"
   ]
  },
  {
   "cell_type": "code",
   "execution_count": 5,
   "metadata": {},
   "outputs": [
    {
     "data": {
      "text/plain": [
       "[{'visit1': ['Москва', 'Россия']},\n",
       " {'visit3': ['Владимир', 'Россия']},\n",
       " {'visit7': ['Тула', 'Россия']},\n",
       " {'visit8': ['Тула', 'Россия']},\n",
       " {'visit9': ['Курск', 'Россия']},\n",
       " {'visit10': ['Архангельск', 'Россия']}]"
      ]
     },
     "execution_count": 5,
     "metadata": {},
     "output_type": "execute_result"
    }
   ],
   "source": [
    "# 2 способ:\n",
    "list(filter(lambda x: list(x.values())[0][1] == 'Россия', geo_logs))"
   ]
  },
  {
   "cell_type": "code",
   "execution_count": 6,
   "metadata": {},
   "outputs": [
    {
     "name": "stdout",
     "output_type": "stream",
     "text": [
      "{'visit1': ['Москва', 'Россия']}\n",
      "{'visit3': ['Владимир', 'Россия']}\n",
      "{'visit7': ['Тула', 'Россия']}\n",
      "{'visit8': ['Тула', 'Россия']}\n",
      "{'visit9': ['Курск', 'Россия']}\n",
      "{'visit10': ['Архангельск', 'Россия']}\n"
     ]
    }
   ],
   "source": [
    "# 3 способ:\n",
    "def condition(x):\n",
    "\tif list(x.values())[0][1] == 'Россия':\n",
    "\t\treturn True\n",
    "\treturn False\n",
    "# condition(x)\n",
    "# filter(condition, geo_logs)\n",
    "for i in filter(condition, geo_logs):\n",
    "\tprint(i)"
   ]
  },
  {
   "cell_type": "markdown",
   "metadata": {},
   "source": [
    "### Задание 2"
   ]
  },
  {
   "cell_type": "markdown",
   "metadata": {},
   "source": [
    "#### Выведите на экран все уникальные гео-ID из значений словаря ids. Т. е. список вида [213, 15, 54, 119, 98, 35]"
   ]
  },
  {
   "cell_type": "code",
   "execution_count": 7,
   "metadata": {},
   "outputs": [],
   "source": [
    "ids = {'user1': [213, 213, 213, 15, 213], 'user2': [54, 54, 119, 119, 119], 'user3': [213, 98, 98, 35]}"
   ]
  },
  {
   "cell_type": "code",
   "execution_count": 8,
   "metadata": {},
   "outputs": [
    {
     "name": "stdout",
     "output_type": "stream",
     "text": [
      "{98, 35, 15, 213, 54, 119}\n"
     ]
    }
   ],
   "source": [
    "distinct_n = set()\n",
    "\n",
    "for user in ids.values():\n",
    "\tfor i in user:\n",
    "\t\tdistinct_n.add(i)\n",
    "\n",
    "print(distinct_n)"
   ]
  },
  {
   "cell_type": "markdown",
   "metadata": {},
   "source": [
    "### Задание 3"
   ]
  },
  {
   "cell_type": "markdown",
   "metadata": {},
   "source": [
    "#### Список поисковых запросов. Получить распределение количества слов в них. Т. е. поисковых запросов из одного слова 5%, из двух - 7%, из трех - 3% итд."
   ]
  },
  {
   "cell_type": "code",
   "execution_count": 9,
   "metadata": {},
   "outputs": [],
   "source": [
    "queries = [\n",
    "\t'смотреть сериалы онлайн',\n",
    "\t'новости спорта',\n",
    "\t'афиша кино',\n",
    "\t'курс доллара',\n",
    "\t'сериалы этим летом',\n",
    "\t'курс по питону',\n",
    "\t'сериалы про спорт',\n",
    "]"
   ]
  },
  {
   "cell_type": "code",
   "execution_count": 10,
   "metadata": {},
   "outputs": [
    {
     "name": "stdout",
     "output_type": "stream",
     "text": [
      "Запросов из 3 слов: 57.14%\n",
      "Запросов из 2 слов: 42.86%\n"
     ]
    }
   ],
   "source": [
    "counter = {}\n",
    "\n",
    "for i in queries:\n",
    "\tn_words = len(i.split(' '))\n",
    "\tcounter.setdefault(n_words, 0)\n",
    "\tcounter[n_words] += 1\n",
    "\n",
    "total = len(queries)\n",
    "\n",
    "for i in counter:\n",
    "\tvalue = counter[i]\n",
    "\tprint(\"Запросов из {} слов: {:.2f}%\".format(i, value/total*100))"
   ]
  },
  {
   "cell_type": "markdown",
   "metadata": {},
   "source": [
    "### Задание 4"
   ]
  },
  {
   "cell_type": "markdown",
   "metadata": {},
   "source": [
    "#### Дана статистика рекламных каналов по объемам продаж. Напишите скрипт, который возвращает название канала с максимальным объемом. Т. е. в данном примере скрипт должен возвращать 'yandex'."
   ]
  },
  {
   "cell_type": "code",
   "execution_count": 11,
   "metadata": {},
   "outputs": [],
   "source": [
    "stats = {'facebook': 55, 'yandex': 120, 'vk': 115, 'google': 99, 'email': 42, 'ok': 98}"
   ]
  },
  {
   "cell_type": "code",
   "execution_count": 12,
   "metadata": {},
   "outputs": [
    {
     "data": {
      "text/plain": [
       "'yandex'"
      ]
     },
     "execution_count": 12,
     "metadata": {},
     "output_type": "execute_result"
    }
   ],
   "source": [
    "max(stats, key=lambda x: stats[x])"
   ]
  },
  {
   "cell_type": "markdown",
   "metadata": {},
   "source": [
    "### Задание 5"
   ]
  },
  {
   "cell_type": "markdown",
   "metadata": {},
   "source": [
    "#### Дан поток логов по количеству просмотренных страниц для каждого пользователя. Список отсортирован по ID пользователя. Вам необходимо написать алгоритм, который считает среднее значение просмотров на пользователя. Т. е. надо посчитать отношение суммы всех просмотров к количеству уникальных пользователей. Учтите, что весь список stream не помещается в оперативную память, т. е. его нужно обрабатывать поэлементно в цикле."
   ]
  },
  {
   "cell_type": "code",
   "execution_count": 13,
   "metadata": {},
   "outputs": [],
   "source": [
    "stream = [\n",
    "\t'2018-01-01,user1,3',\n",
    "\t'2018-01-07,user1,4',\n",
    "\t'2018-03-29,user1,1',\n",
    "\t'2018-04-04,user1,13',\n",
    "\t'2018-01-05,user2,7',\n",
    "\t'2018-06-14,user3,4',\n",
    "\t'2018-07-02,user3,10',\n",
    "\t'2018-03-21,user4,19',\n",
    "\t'2018-03-22,user4,4',\n",
    "\t'2018-04-22,user4,8',\n",
    "\t'2018-05-03,user4,9',\n",
    "\t'2018-05-11,user4,11'\n",
    "]"
   ]
  },
  {
   "cell_type": "code",
   "execution_count": 15,
   "metadata": {},
   "outputs": [
    {
     "name": "stdout",
     "output_type": "stream",
     "text": [
      "Отношение суммы всех просмотров к количеству уникальных пользователей прямо щас:\n",
      "= 3.00\n",
      "= 7.00\n",
      "= 8.00\n",
      "= 21.00\n",
      "= 14.00\n",
      "= 10.67\n",
      "= 14.00\n",
      "= 15.25\n",
      "= 16.25\n",
      "= 18.25\n",
      "= 20.50\n",
      "= 23.25\n"
     ]
    }
   ],
   "source": [
    "n_users = 0\n",
    "n_views = 0\n",
    "current_user = \"\"\n",
    "\n",
    "print('Отношение суммы всех просмотров к количеству уникальных пользователей прямо щас:')\n",
    "\n",
    "for i in stream:\n",
    "\tdate, user, views = i.split(\",\")\n",
    "\tn_views += int(views)\n",
    "\t\n",
    "\tif user != current_user:\n",
    "\t\tn_users += 1\n",
    "\t\tcurrent_user = user\n",
    "\tprint('= {:.2f}'.format(n_views/n_users))"
   ]
  },
  {
   "cell_type": "markdown",
   "metadata": {},
   "source": [
    "### Задание 6"
   ]
  },
  {
   "cell_type": "markdown",
   "metadata": {},
   "source": [
    "#### Дана статистика рекламных кампаний по дням. Напишите алгоритм, который по паре дата-кампания ищет значение численного столбца. Т. е. для даты '2018-01-01' и 'google' нужно получить число 25. Считайте, что все комбинации дата-кампания уникальны, а список stats легко помещается в оперативной памяти."
   ]
  },
  {
   "cell_type": "code",
   "execution_count": 16,
   "metadata": {},
   "outputs": [],
   "source": [
    "stats = [\n",
    "\t['2018-01-01', 'google', 25],\n",
    "\t['2018-01-01', 'yandex', 65],\n",
    "\t['2018-01-01', 'market', 89],\n",
    "\t['2018-01-02', 'google', 574],\n",
    "\t['2018-01-02', 'yandex', 249],\n",
    "\t['2018-01-02', 'market', 994],\n",
    "\t['2018-01-03', 'google', 1843],\n",
    "\t['2018-01-03', 'yandex', 1327],\n",
    "\t['2018-01-03', 'market', 1764]\n",
    "]"
   ]
  },
  {
   "cell_type": "code",
   "execution_count": 18,
   "metadata": {},
   "outputs": [],
   "source": [
    "def get_data(date, campaign):\n",
    "\tfor i in stats:\n",
    "\t\tif i[0] == date and i[1] == campaign:\n",
    "\t\t\treturn i[2]"
   ]
  },
  {
   "cell_type": "code",
   "execution_count": 19,
   "metadata": {},
   "outputs": [
    {
     "data": {
      "text/plain": [
       "25"
      ]
     },
     "execution_count": 19,
     "metadata": {},
     "output_type": "execute_result"
    }
   ],
   "source": [
    "get_data('2018-01-01', 'google')"
   ]
  }
 ],
 "metadata": {
  "kernelspec": {
   "display_name": "Python 3",
   "language": "python",
   "name": "python3"
  },
  "language_info": {
   "codemirror_mode": {
    "name": "ipython",
    "version": 3
   },
   "file_extension": ".py",
   "mimetype": "text/x-python",
   "name": "python",
   "nbconvert_exporter": "python",
   "pygments_lexer": "ipython3",
   "version": "3.6.8"
  }
 },
 "nbformat": 4,
 "nbformat_minor": 2
}
