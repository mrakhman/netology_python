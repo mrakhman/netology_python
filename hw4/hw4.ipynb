{
 "cells": [
  {
   "cell_type": "markdown",
   "metadata": {},
   "source": [
    "### Задание 1"
   ]
  },
  {
   "cell_type": "markdown",
   "metadata": {},
   "source": [
    "Напишите функцию date_range, которая возвращает список дней между датами start_date и end_date. Даты должны вводиться в формате YYYY-MM-DD"
   ]
  },
  {
   "cell_type": "code",
   "execution_count": 155,
   "metadata": {},
   "outputs": [],
   "source": [
    "from datetime import datetime\n",
    "from datetime import timedelta"
   ]
  },
  {
   "cell_type": "code",
   "execution_count": 156,
   "metadata": {},
   "outputs": [],
   "source": [
    "def date_range(start_date, end_date):\n",
    "    lst = list()\n",
    "    \n",
    "    start_date = datetime.strptime(start_date, '%Y-%m-%d')\n",
    "    end_date = datetime.strptime(end_date, '%Y-%m-%d')\n",
    "    current_date = start_date\n",
    "\n",
    "    # Не понимаю почему эта проверка не работает при неверном формате ввода данных?\n",
    "    if not(start_date or end_date):\n",
    "        return \"Formatting error\"\n",
    "    \n",
    "    while current_date <= end_date:\n",
    "        lst.append(current_date.strftime('%Y-%m-%d'))\n",
    "        current_date += timedelta(days=1)\n",
    "    \n",
    "    return(lst)"
   ]
  },
  {
   "cell_type": "code",
   "execution_count": 157,
   "metadata": {},
   "outputs": [
    {
     "name": "stdout",
     "output_type": "stream",
     "text": [
      "2019-02-11\n",
      "2019-02-12\n",
      "2019-02-13\n",
      "2019-02-14\n",
      "2019-02-15\n",
      "2019-02-16\n",
      "2019-02-17\n",
      "2019-02-18\n",
      "2019-02-19\n",
      "2019-02-20\n",
      "2019-02-21\n"
     ]
    }
   ],
   "source": [
    "dates_between = date_range('2019-02-11', '2019-02-21')\n",
    "for el in dates_between:\n",
    "    print(el)"
   ]
  },
  {
   "cell_type": "markdown",
   "metadata": {},
   "source": [
    "### Задание 2"
   ]
  },
  {
   "cell_type": "markdown",
   "metadata": {},
   "source": [
    "Дополните функцию из первого задания проверкой на корректность дат. В случае неверного формата или если start_date > end_date должен возвращаться пустой список"
   ]
  },
  {
   "cell_type": "code",
   "execution_count": 167,
   "metadata": {},
   "outputs": [],
   "source": [
    "def date_range_with_checkup(start_date, end_date):\n",
    "    lst = list()\n",
    "    \n",
    "    try:\n",
    "        start_date = datetime.strptime(start_date, '%Y-%m-%d')\n",
    "        end_date = datetime.strptime(end_date, '%Y-%m-%d')\n",
    "        current_date = start_date\n",
    "        \n",
    "    except:\n",
    "        print(\"Неверный формат ввода данных, нужен '%Y-%m-%d'\")\n",
    "        return lst\n",
    "        \n",
    "    if start_date > end_date:\n",
    "        print(\"Дата начала не может быть больше даты окончания\")\n",
    "        return lst\n",
    "    \n",
    "    while current_date <= end_date:\n",
    "        lst.append(current_date.strftime('%Y-%m-%d'))\n",
    "        current_date += timedelta(days=1)\n",
    "    \n",
    "    return lst"
   ]
  },
  {
   "cell_type": "code",
   "execution_count": 168,
   "metadata": {},
   "outputs": [
    {
     "data": {
      "text/plain": [
       "['2019-02-20', '2019-02-21']"
      ]
     },
     "execution_count": 168,
     "metadata": {},
     "output_type": "execute_result"
    }
   ],
   "source": [
    "dates_between = date_range_with_checkup('2019-02-20', '2019-02-21')\n",
    "\n",
    "dates_between\n",
    "\n",
    "# for el in dates_between:\n",
    "#     print(el)"
   ]
  },
  {
   "cell_type": "markdown",
   "metadata": {},
   "source": [
    "### Задание 3"
   ]
  },
  {
   "cell_type": "markdown",
   "metadata": {},
   "source": [
    "Дан поток дат в формате YYYY-MM-DD, в которых встречаются некорректные значения:\n",
    "stream = [‘2018-04-02’, ‘2018-02-29’, ‘2018-19-02’]\n",
    "Напишите функцию, которая проверяет эти даты на корректность. Т. е. для каждой даты возвращает True (дата корректна) или False (некорректная дата)"
   ]
  },
  {
   "cell_type": "code",
   "execution_count": 159,
   "metadata": {},
   "outputs": [],
   "source": [
    "stream = ['2018-04-02', '2018-02-29', '2018-19-02']"
   ]
  },
  {
   "cell_type": "code",
   "execution_count": 170,
   "metadata": {},
   "outputs": [],
   "source": [
    "def check_formatting(str_date):\n",
    "    try:\n",
    "        date = datetime.strptime(str_date, '%Y-%m-%d')\n",
    "        return True\n",
    "    except:\n",
    "        return False"
   ]
  },
  {
   "cell_type": "code",
   "execution_count": 169,
   "metadata": {},
   "outputs": [
    {
     "name": "stdout",
     "output_type": "stream",
     "text": [
      "True\n",
      "False\n",
      "False\n"
     ]
    }
   ],
   "source": [
    "for el in stream:\n",
    "    print(check_formatting(el))"
   ]
  },
  {
   "cell_type": "markdown",
   "metadata": {},
   "source": [
    "### Задание 4"
   ]
  },
  {
   "cell_type": "markdown",
   "metadata": {},
   "source": [
    "Напишите функцию, которая возвращает список дат с 1 по вчерашний день текущего месяца. Если дан 1 день месяца, то возвращается список дней прошлого месяца"
   ]
  },
  {
   "cell_type": "code",
   "execution_count": 161,
   "metadata": {},
   "outputs": [],
   "source": [
    "from datetime import time\n",
    "from datetime import date"
   ]
  },
  {
   "cell_type": "code",
   "execution_count": 164,
   "metadata": {},
   "outputs": [],
   "source": [
    "def datelist_until_yesterday():\n",
    "    lst = list()\n",
    "    \n",
    "    today_date = datetime.now()\n",
    "#     today_date = datetime.strptime('2019-03-02', '%Y-%m-%d')\n",
    "    yesterday = today_date - timedelta(days=1)\n",
    "    first_day = yesterday.strftime('%Y-%m-01')\n",
    "    first_day = datetime.strptime(first_day, '%Y-%m-%d')\n",
    "    \n",
    "    # If only 1 day can be returned - return previous month dates\n",
    "    if yesterday == first_day:\n",
    "        yesterday = yesterday - timedelta(days=1)\n",
    "        first_day = yesterday.strftime('%Y-%m-01')\n",
    "        first_day = datetime.strptime(first_day, '%Y-%m-%d')\n",
    "    \n",
    "    while first_day <= yesterday:\n",
    "        lst.append(first_day.strftime('%Y-%m-%d'))\n",
    "        first_day += timedelta(days=1)\n",
    "    return lst"
   ]
  },
  {
   "cell_type": "code",
   "execution_count": 166,
   "metadata": {},
   "outputs": [
    {
     "data": {
      "text/plain": [
       "['2019-03-01',\n",
       " '2019-03-02',\n",
       " '2019-03-03',\n",
       " '2019-03-04',\n",
       " '2019-03-05',\n",
       " '2019-03-06',\n",
       " '2019-03-07',\n",
       " '2019-03-08',\n",
       " '2019-03-09',\n",
       " '2019-03-10',\n",
       " '2019-03-11',\n",
       " '2019-03-12',\n",
       " '2019-03-13',\n",
       " '2019-03-14',\n",
       " '2019-03-15',\n",
       " '2019-03-16']"
      ]
     },
     "execution_count": 166,
     "metadata": {},
     "output_type": "execute_result"
    }
   ],
   "source": [
    "datelist_until_yesterday()"
   ]
  },
  {
   "cell_type": "markdown",
   "metadata": {},
   "source": [
    "### Задание 5"
   ]
  },
  {
   "cell_type": "markdown",
   "metadata": {},
   "source": [
    "Напишите функцию, которая возвращает точную дату в формате YYYY-MM-DD по фразе:\n",
    "\n",
    "‘today’ - сегодняшнюю дату\n",
    "‘last monday’ - прошлый понедельник\n",
    "‘last day’ - Последний день текущего месяца"
   ]
  },
  {
   "cell_type": "code",
   "execution_count": 137,
   "metadata": {},
   "outputs": [],
   "source": [
    "from datetime import date"
   ]
  },
  {
   "cell_type": "code",
   "execution_count": 151,
   "metadata": {},
   "outputs": [],
   "source": [
    "def date_by_word(request):\n",
    "    today = datetime.date.today()\n",
    "    if request == 'today':\n",
    "        return today.strftime('%Y-%m-%d')\n",
    "    if request == 'last monday':\n",
    "        last_monday = today - datetime.timedelta(days=today.weekday(), weeks=1)\n",
    "        return last_monday.strftime('%Y-%m-%d')\n",
    "    if request == 'last day':\n",
    "        next_month = today.replace(day=28) + datetime.timedelta(days=4)\n",
    "        last_day = next_month - datetime.timedelta(days=next_month.day)\n",
    "        return last_day.strftime('%Y-%m-%d')"
   ]
  },
  {
   "cell_type": "code",
   "execution_count": 152,
   "metadata": {},
   "outputs": [
    {
     "name": "stdout",
     "output_type": "stream",
     "text": [
      "2019-03-17\n",
      "2019-03-04\n",
      "2019-03-31\n"
     ]
    }
   ],
   "source": [
    "print(date_by_word('today'))\n",
    "print(date_by_word('last monday'))\n",
    "print(date_by_word('last day'))"
   ]
  }
 ],
 "metadata": {
  "kernelspec": {
   "display_name": "Python 3",
   "language": "python",
   "name": "python3"
  },
  "language_info": {
   "codemirror_mode": {
    "name": "ipython",
    "version": 3
   },
   "file_extension": ".py",
   "mimetype": "text/x-python",
   "name": "python",
   "nbconvert_exporter": "python",
   "pygments_lexer": "ipython3",
   "version": "3.6.8"
  }
 },
 "nbformat": 4,
 "nbformat_minor": 2
}
